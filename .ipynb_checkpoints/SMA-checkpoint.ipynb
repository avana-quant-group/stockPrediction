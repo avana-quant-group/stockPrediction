{
 "cells": [
  {
   "cell_type": "code",
   "execution_count": 1,
   "id": "745964f9",
   "metadata": {
    "execution": {
     "iopub.execute_input": "2022-11-16T21:32:48.927793Z",
     "iopub.status.busy": "2022-11-16T21:32:48.927521Z",
     "iopub.status.idle": "2022-11-16T21:32:49.880845Z",
     "shell.execute_reply": "2022-11-16T21:32:49.880118Z"
    }
   },
   "outputs": [],
   "source": [
    "import pandas as pd\n",
    "import yfinance as yf\n",
    "import mplfinance as mpf"
   ]
  },
  {
   "cell_type": "code",
   "execution_count": 2,
   "id": "9d31161e",
   "metadata": {
    "execution": {
     "iopub.execute_input": "2022-11-16T21:32:49.884510Z",
     "iopub.status.busy": "2022-11-16T21:32:49.884147Z",
     "iopub.status.idle": "2022-11-16T21:32:50.996310Z",
     "shell.execute_reply": "2022-11-16T21:32:50.993779Z"
    }
   },
   "outputs": [
    {
     "name": "stdout",
     "output_type": "stream",
     "text": [
      "[*********************100%***********************]  1 of 1 completed\n"
     ]
    }
   ],
   "source": [
    "TICKER = \"AAPL\"\n",
    "\n",
    "# df = yf.download(TICKER,start=\"2022-04-01\",end=\"2022-11-3\",auto_adjust=True)"
   ]
  },
  {
   "cell_type": "code",
   "execution_count": 3,
   "id": "ff9eac55",
   "metadata": {
    "execution": {
     "iopub.execute_input": "2022-11-16T21:32:51.009675Z",
     "iopub.status.busy": "2022-11-16T21:32:51.008545Z",
     "iopub.status.idle": "2022-11-16T21:32:51.025246Z",
     "shell.execute_reply": "2022-11-16T21:32:51.022251Z"
    }
   },
   "outputs": [],
   "source": [
    "# df.to_csv(TICKER+'.csv')\n",
    "df=pd.re"
   ]
  },
  {
   "cell_type": "code",
   "execution_count": 4,
   "id": "61a73a3c",
   "metadata": {
    "execution": {
     "iopub.execute_input": "2022-11-16T21:32:51.030993Z",
     "iopub.status.busy": "2022-11-16T21:32:51.030611Z",
     "iopub.status.idle": "2022-11-16T21:32:51.157457Z",
     "shell.execute_reply": "2022-11-16T21:32:51.153876Z"
    }
   },
   "outputs": [
    {
     "name": "stdout",
     "output_type": "stream",
     "text": [
      " AAPL.csv   fi2.png   fi.png\t  static     'time series.ipynb'\n",
      " app.py     fi3.png   SMA.ipynb   templates\n",
      " env\t    fii.png   sma.py\t  test.md\n"
     ]
    }
   ],
   "source": [
    "!ls"
   ]
  },
  {
   "cell_type": "code",
   "execution_count": 15,
   "id": "49ae0394",
   "metadata": {
    "execution": {
     "iopub.execute_input": "2022-11-16T21:32:51.170621Z",
     "iopub.status.busy": "2022-11-16T21:32:51.169788Z",
     "iopub.status.idle": "2022-11-16T21:32:51.442389Z",
     "shell.execute_reply": "2022-11-16T21:32:51.441648Z"
    }
   },
   "outputs": [
    {
     "name": "stderr",
     "output_type": "stream",
     "text": [
      "/mnt/6C18C37118C338BA/final project/syst/env/lib/python3.10/site-packages/mplfinance/_styles.py:24: MatplotlibDeprecationWarning: The seaborn styles shipped by Matplotlib are deprecated since 3.6, as they no longer correspond to the styles shipped by seaborn. However, they will remain available as 'seaborn-v0_8-<style>'. Alternatively, directly use the seaborn API instead.\n",
      "  plt.style.use(style['base_mpl_style'])\n"
     ]
    }
   ],
   "source": [
    "# mpf.plot(df[\"2022-04-01\":],savefig='static/photo/fi.png')\n",
    "mpf.plot(df[\"2022-04-01\":])"
   ]
  },
  {
   "cell_type": "code",
   "execution_count": 17,
   "id": "2e7bfb20",
   "metadata": {
    "execution": {
     "iopub.execute_input": "2022-11-16T21:32:51.446044Z",
     "iopub.status.busy": "2022-11-16T21:32:51.445795Z",
     "iopub.status.idle": "2022-11-16T21:32:51.584554Z",
     "shell.execute_reply": "2022-11-16T21:32:51.583684Z"
    }
   },
   "outputs": [
    {
     "name": "stderr",
     "output_type": "stream",
     "text": [
      "/mnt/6C18C37118C338BA/final project/syst/env/lib/python3.10/site-packages/mplfinance/_styles.py:24: MatplotlibDeprecationWarning: The seaborn styles shipped by Matplotlib are deprecated since 3.6, as they no longer correspond to the styles shipped by seaborn. However, they will remain available as 'seaborn-v0_8-<style>'. Alternatively, directly use the seaborn API instead.\n",
      "  plt.style.use(style['base_mpl_style'])\n"
     ]
    }
   ],
   "source": [
    "extra_plot  = mpf.make_addplot(df.loc[\"2022-09-01\":, [\"High\",\"Low\"]])\n",
    "mpf.plot(df[\"2022-09-01\":], addplot=extra_plot,savefig='static/photo/dowvol.png',volume=True)"
   ]
  },
  {
   "cell_type": "code",
   "execution_count": 13,
   "id": "cd98565c",
   "metadata": {
    "execution": {
     "iopub.execute_input": "2022-11-16T21:32:51.588530Z",
     "iopub.status.busy": "2022-11-16T21:32:51.588190Z",
     "iopub.status.idle": "2022-11-16T21:32:51.726300Z",
     "shell.execute_reply": "2022-11-16T21:32:51.725431Z"
    }
   },
   "outputs": [
    {
     "name": "stderr",
     "output_type": "stream",
     "text": [
      "/mnt/6C18C37118C338BA/final project/syst/env/lib/python3.10/site-packages/mplfinance/_styles.py:24: MatplotlibDeprecationWarning: The seaborn styles shipped by Matplotlib are deprecated since 3.6, as they no longer correspond to the styles shipped by seaborn. However, they will remain available as 'seaborn-v0_8-<style>'. Alternatively, directly use the seaborn API instead.\n",
      "  plt.style.use(style['base_mpl_style'])\n"
     ]
    }
   ],
   "source": [
    "mpf.plot(df[\"2022-09-01\":], type=\"candle\",style=\"binance\",savefig='static/photo/fi2.png')"
   ]
  },
  {
   "cell_type": "code",
   "execution_count": 12,
   "id": "b5b0c871",
   "metadata": {
    "execution": {
     "iopub.execute_input": "2022-11-16T21:32:51.729811Z",
     "iopub.status.busy": "2022-11-16T21:32:51.729519Z",
     "iopub.status.idle": "2022-11-16T21:32:52.271393Z",
     "shell.execute_reply": "2022-11-16T21:32:52.269208Z"
    }
   },
   "outputs": [
    {
     "name": "stderr",
     "output_type": "stream",
     "text": [
      "/mnt/6C18C37118C338BA/final project/syst/env/lib/python3.10/site-packages/mplfinance/_styles.py:24: MatplotlibDeprecationWarning: The seaborn styles shipped by Matplotlib are deprecated since 3.6, as they no longer correspond to the styles shipped by seaborn. However, they will remain available as 'seaborn-v0_8-<style>'. Alternatively, directly use the seaborn API instead.\n",
      "  plt.style.use(style['base_mpl_style'])\n"
     ]
    }
   ],
   "source": [
    "mpf.plot(df, type=\"candle\", mav=(10,20,30), volume=True,style=\"binance\",savefig='static/photo/movingavg.png')"
   ]
  }
 ],
 "metadata": {
  "kernelspec": {
   "display_name": "Python 3 (ipykernel)",
   "language": "python",
   "name": "python3"
  },
  "language_info": {
   "codemirror_mode": {
    "name": "ipython",
    "version": 3
   },
   "file_extension": ".py",
   "mimetype": "text/x-python",
   "name": "python",
   "nbconvert_exporter": "python",
   "pygments_lexer": "ipython3",
   "version": "3.9.13"
  },
  "vscode": {
   "interpreter": {
    "hash": "8b95a070f1a02a8f9eeac9530fd1c5412000da163c6e2550e5ef56724c6d58e7"
   }
  }
 },
 "nbformat": 4,
 "nbformat_minor": 5
}
